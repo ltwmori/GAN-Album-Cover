{
  "nbformat": 4,
  "nbformat_minor": 0,
  "metadata": {
    "colab": {
      "name": "getting_SpotifyAlbumImages",
      "provenance": [],
      "collapsed_sections": []
    },
    "kernelspec": {
      "name": "python3",
      "display_name": "Python 3"
    },
    "language_info": {
      "name": "python"
    }
  },
  "cells": [
    {
      "cell_type": "code",
      "metadata": {
        "colab": {
          "base_uri": "https://localhost:8080/"
        },
        "id": "2x68GVBCYpqG",
        "outputId": "9ddb336a-783b-452c-f182-98714972cce6"
      },
      "source": [
        "!pip install spotipy"
      ],
      "execution_count": 1,
      "outputs": [
        {
          "output_type": "stream",
          "text": [
            "Collecting spotipy\n",
            "  Downloading https://files.pythonhosted.org/packages/fb/69/21f1ccc881438bdfa1056ea131b6ac2b1cfbe656cf3676b6167d3cbc4d69/spotipy-2.17.1-py3-none-any.whl\n",
            "Collecting urllib3>=1.26.0\n",
            "\u001b[?25l  Downloading https://files.pythonhosted.org/packages/09/c6/d3e3abe5b4f4f16cf0dfc9240ab7ce10c2baa0e268989a4e3ec19e90c84e/urllib3-1.26.4-py2.py3-none-any.whl (153kB)\n",
            "\u001b[K     |████████████████████████████████| 153kB 12.0MB/s \n",
            "\u001b[?25hRequirement already satisfied: six>=1.15.0 in /usr/local/lib/python3.7/dist-packages (from spotipy) (1.15.0)\n",
            "Collecting requests>=2.25.0\n",
            "\u001b[?25l  Downloading https://files.pythonhosted.org/packages/29/c1/24814557f1d22c56d50280771a17307e6bf87b70727d975fd6b2ce6b014a/requests-2.25.1-py2.py3-none-any.whl (61kB)\n",
            "\u001b[K     |████████████████████████████████| 61kB 5.8MB/s \n",
            "\u001b[?25hRequirement already satisfied: chardet<5,>=3.0.2 in /usr/local/lib/python3.7/dist-packages (from requests>=2.25.0->spotipy) (3.0.4)\n",
            "Requirement already satisfied: certifi>=2017.4.17 in /usr/local/lib/python3.7/dist-packages (from requests>=2.25.0->spotipy) (2020.12.5)\n",
            "Requirement already satisfied: idna<3,>=2.5 in /usr/local/lib/python3.7/dist-packages (from requests>=2.25.0->spotipy) (2.10)\n",
            "\u001b[31mERROR: google-colab 1.0.0 has requirement requests~=2.23.0, but you'll have requests 2.25.1 which is incompatible.\u001b[0m\n",
            "\u001b[31mERROR: datascience 0.10.6 has requirement folium==0.2.1, but you'll have folium 0.8.3 which is incompatible.\u001b[0m\n",
            "Installing collected packages: urllib3, requests, spotipy\n",
            "  Found existing installation: urllib3 1.24.3\n",
            "    Uninstalling urllib3-1.24.3:\n",
            "      Successfully uninstalled urllib3-1.24.3\n",
            "  Found existing installation: requests 2.23.0\n",
            "    Uninstalling requests-2.23.0:\n",
            "      Successfully uninstalled requests-2.23.0\n",
            "Successfully installed requests-2.25.1 spotipy-2.17.1 urllib3-1.26.4\n"
          ],
          "name": "stdout"
        }
      ]
    },
    {
      "cell_type": "code",
      "metadata": {
        "id": "AX3vxP1AXjKv"
      },
      "source": [
        "import spotipy\n",
        "import time\n",
        "import random\n",
        "from spotipy.oauth2 import SpotifyClientCredentials"
      ],
      "execution_count": 2,
      "outputs": []
    },
    {
      "cell_type": "code",
      "execution_count": null,
      "metadata": {},
      "outputs": [],
      "source": [
        "client_secret = open('secret.txt', 'r').read()"
      ]
    },
    {
      "cell_type": "code",
      "metadata": {
        "id": "1PTIlOhyXtHY"
      },
      "source": [
        "client_id = '1d53c3a3c61243319c70f911d2f69b1a'"
      ],
      "execution_count": 3,
      "outputs": []
    },
    {
      "cell_type": "code",
      "metadata": {
        "id": "AklJza86XvTn"
      },
      "source": [
        "client_credentials_manager = SpotifyClientCredentials(client_id, client_secret)\n",
        "sp = spotipy.Spotify(client_credentials_manager=client_credentials_manager)"
      ],
      "execution_count": 4,
      "outputs": []
    },
    {
      "cell_type": "code",
      "metadata": {
        "id": "Tt3X0p_IBBqV"
      },
      "source": [
        "sp.categories()"
      ],
      "execution_count": null,
      "outputs": []
    },
    {
      "cell_type": "code",
      "metadata": {
        "id": "9a3HjQfPBZym"
      },
      "source": [
        "sp.category_playlists('rock')"
      ],
      "execution_count": null,
      "outputs": []
    },
    {
      "cell_type": "code",
      "metadata": {
        "id": "0iUZQ3wFCka8"
      },
      "source": [
        "sp.playlist_tracks(\"37i9dQZF1DWXRqgorJj26U\")"
      ],
      "execution_count": null,
      "outputs": []
    },
    {
      "cell_type": "code",
      "metadata": {
        "id": "doxtqTT-YQNz"
      },
      "source": [
        "def get_album_images(genre):\n",
        "  off_playl=0\n",
        "  while 1: #get more playlists\n",
        "    playlists = sp.category_playlists(genre, limit=50, offset=off_playl)['playlists']\n",
        "    if playlists['next'] is not \"None\":\n",
        "      off_playl += 50\n",
        "      continue\n",
        "    else:\n",
        "      break\n",
        "  trackSet = set()\n",
        "  off_track=0\n",
        "  for playlist in playlists['items']: \n",
        "    tracks = sp.playlist_tracks(playlist['id'], limit=100, offset=off_track) # get more tracks from each playlist\n",
        "    for track in tracks['items']:\n",
        "      albumImages = track['track']['album']['images']\n",
        "      firstImageUrl = albumImages[0]['url']\n",
        "      trackSet.add(firstImageUrl)\n",
        "    if tracks['next'] is not \"None\":\n",
        "      off_track += 100\n",
        "      continue\n",
        "    else: \n",
        "      break\n",
        "\n",
        "      \n",
        "  return trackSet"
      ],
      "execution_count": 9,
      "outputs": []
    },
    {
      "cell_type": "code",
      "metadata": {
        "id": "3McuWOHNX6q7"
      },
      "source": [
        "len(get_album_images('rock'))"
      ],
      "execution_count": null,
      "outputs": []
    }
  ]
}