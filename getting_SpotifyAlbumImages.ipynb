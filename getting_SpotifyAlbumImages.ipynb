{
 "cells": [
  {
   "cell_type": "markdown",
   "metadata": {},
   "source": [
    "# GAN for album cover generation\n",
    "\n",
    "### Summary\n",
    "\n",
    "This project creates a Generative Adversarial Network (GAN) for album cover generation based on the Spotify dataset.\n",
    "It is based on [this paper](https://ryanmcconville.com/publications/AlbumCoverGenerationFromGenreTags.pdf) and the ultimate objective is to generate album images based on music genres.\n",
    "\n",
    "There will be some intermediate steps on the process:\n",
    "1 - Generate a data set\n",
    "2 - Create a genre classifier\n",
    "3 - Create an album image GAN\n",
    "4 - Create a GAN that generates albums based on genre"
   ]
  },
  {
   "cell_type": "code",
   "execution_count": 43,
   "metadata": {
    "colab": {
     "base_uri": "https://localhost:8080/"
    },
    "id": "2x68GVBCYpqG",
    "outputId": "9ddb336a-783b-452c-f182-98714972cce6"
   },
   "outputs": [
    {
     "name": "stdout",
     "output_type": "stream",
     "text": [
      "Requirement already satisfied: spotipy in /home/axel/.local/lib/python3.8/site-packages (2.17.1)\n",
      "Requirement already satisfied: urllib3>=1.26.0 in /home/axel/.local/lib/python3.8/site-packages (from spotipy) (1.26.4)\n",
      "Requirement already satisfied: six>=1.15.0 in /home/axel/.local/lib/python3.8/site-packages (from spotipy) (1.15.0)\n",
      "Requirement already satisfied: requests>=2.25.0 in /home/axel/.local/lib/python3.8/site-packages (from spotipy) (2.25.1)\n",
      "Requirement already satisfied: certifi>=2017.4.17 in /home/axel/.local/lib/python3.8/site-packages (from requests>=2.25.0->spotipy) (2020.6.20)\n",
      "Requirement already satisfied: idna<3,>=2.5 in /home/axel/.local/lib/python3.8/site-packages (from requests>=2.25.0->spotipy) (2.10)\n",
      "Requirement already satisfied: chardet<5,>=3.0.2 in /usr/lib/python3/dist-packages (from requests>=2.25.0->spotipy) (3.0.4)\n"
     ]
    }
   ],
   "source": [
    "!pip3 install spotipy"
   ]
  },
  {
   "cell_type": "code",
   "execution_count": 57,
   "metadata": {
    "id": "AX3vxP1AXjKv"
   },
   "outputs": [],
   "source": [
    "import spotipy\n",
    "import time\n",
    "import random\n",
    "from spotipy.oauth2 import SpotifyClientCredentials"
   ]
  },
  {
   "cell_type": "markdown",
   "metadata": {},
   "source": [
    "## Loading spotify credentials\n",
    "\n",
    "You need to configure your spotify credentials as a json file.\\\n",
    "\n",
    "Your json file should be called **spotify_credentials.json** and look like this:\n",
    "\n",
    "```json\n",
    "{\n",
    "    \"client_id\": \"your_client_id\",\n",
    "    \"client_secret\": \"your_client_secret\"\n",
    "}\n",
    "```\n",
    "\n",
    "More details on how to use json files as configuration files can be found [here](https://martin-thoma.com/configuration-files-in-python/#:~:text=configuration%20handling%3A%20cfg_load-,Python%20Configuration%20File,to%20avoid%20uploading%20it%20accidentally)"
   ]
  },
  {
   "cell_type": "code",
   "execution_count": 91,
   "metadata": {},
   "outputs": [],
   "source": [
    "import json\n",
    "\n",
    "with open(\"spotify_credentials.json\") as json_data_file:\n",
    "    data = json.load(json_data_file)\n",
    "\n",
    "client_id = data[\"client_id\"]\n",
    "client_secret = data[\"client_secret\"]"
   ]
  },
  {
   "cell_type": "code",
   "execution_count": 92,
   "metadata": {
    "id": "AklJza86XvTn"
   },
   "outputs": [],
   "source": [
    "client_credentials_manager = SpotifyClientCredentials(client_id, client_secret)\n",
    "sp = spotipy.Spotify(client_credentials_manager=client_credentials_manager)"
   ]
  },
  {
   "cell_type": "markdown",
   "metadata": {
    "id": "0iUZQ3wFCka8"
   },
   "source": [
    "## Creating a list of images\n",
    "\n",
    "There's no real api to get all album images of a `genre` in Spotify.\\\n",
    "We need to go around that limitation by assuming that some spotify categories behave as genres.\n",
    "\n",
    "From there we can use:\n",
    "- Get a list of categories\n",
    "- Get all the playlists for a category\n",
    "- Get all songs for a playlist\n",
    "- Get an album image for every song"
   ]
  },
  {
   "cell_type": "code",
   "execution_count": 93,
   "metadata": {},
   "outputs": [],
   "source": [
    "categories = [\n",
    "    \"rock\",\n",
    "    \"pop\",\n",
    "    \"classical\",\n",
    "    \"hiphop\",\n",
    "    \"country\",\n",
    "    \"latin\",\n",
    "    \"edm_dance\",\n",
    "    \"jazz\"\n",
    "]"
   ]
  },
  {
   "cell_type": "code",
   "execution_count": 94,
   "metadata": {
    "id": "doxtqTT-YQNz"
   },
   "outputs": [],
   "source": [
    "def get_playlists(\n",
    "    category,\n",
    "    country = \"US\"\n",
    "):\n",
    "    playlists = list()\n",
    "    \n",
    "    offset = 0\n",
    "    while True: #get more playlists\n",
    "        playlistResponse = sp.category_playlists(category, limit = 20, offset = offset, country = country)['playlists']\n",
    "        playlists.extend(playlistResponse['items'])\n",
    "        \n",
    "        if playlistResponse['next'] == None:\n",
    "            break\n",
    "        else:\n",
    "            offset += 20\n",
    "    \n",
    "    return playlists"
   ]
  },
  {
   "cell_type": "code",
   "execution_count": 95,
   "metadata": {},
   "outputs": [],
   "source": [
    "def get_tracks(playlist):\n",
    "    tracks = list()\n",
    "    \n",
    "    offset = 0\n",
    "    while True: #get more playlists\n",
    "        tracksResponse = sp.playlist_tracks(playlist['id'], limit=100, offset = offset)\n",
    "        tracks.extend(tracksResponse['items'])\n",
    "        \n",
    "        if tracksResponse['next'] == None:\n",
    "            break\n",
    "        else:\n",
    "            offset += 100\n",
    "    \n",
    "    return tracks"
   ]
  },
  {
   "cell_type": "markdown",
   "metadata": {},
   "source": [
    "## Downloading all the images\n",
    "\n",
    "arguments of the function download_url:\n",
    "\n",
    "<ul>\n",
    "<li>url (str): URL to download file from</li>\n",
    "<li>root (str): Directory to place downloaded file in</li>\n",
    "<li>filename (str, optional): Name to save the file under. If None, use the basename of the URL</li>\n",
    "</ul>\n"
   ]
  },
  {
   "cell_type": "code",
   "execution_count": 96,
   "metadata": {},
   "outputs": [],
   "source": [
    "import urllib\n",
    "import os\n",
    "\n",
    "def download_url(url, root, filename=None):\n",
    "    root = os.path.expanduser(root)\n",
    "    if not filename:\n",
    "        filename = os.path.basename(url)\n",
    "    fpath = os.path.join(root, filename  + \".\" + \"png\")\n",
    "\n",
    "    os.makedirs(root, exist_ok=True)\n",
    "\n",
    "    try:\n",
    "        print('Downloading ' + url + ' to ' + fpath)\n",
    "        urllib.request.urlretrieve(url, fpath)\n",
    "    except (urllib.error.URLError, IOError) as e:\n",
    "        if url[:5] == 'https':\n",
    "            url = url.replace('https:', 'http:')\n",
    "            print('Failed download. Trying https -> http instead.'\n",
    "                    ' Downloading ' + url + ' to ' + fpath)\n",
    "            urllib.request.urlretrieve(url, fpath)"
   ]
  },
  {
   "cell_type": "code",
   "execution_count": 99,
   "metadata": {},
   "outputs": [],
   "source": [
    "def get_album_images(category):\n",
    "    print (\"Downloading playlists\")\n",
    "    playlists = get_playlists(category)\n",
    "    print (\"Downloaded {} playlists\".format(len(playlists)))\n",
    "    \n",
    "    print (\"Downloading tracks\")\n",
    "    tracks = list()\n",
    "    for playlist in playlists:\n",
    "        tracks.extend(get_tracks(playlist))\n",
    "    print (\"Downloaded {} tracks\".format(len(tracks)))\n",
    "    \n",
    "    allImages = set()\n",
    "    for track in tracks:\n",
    "        trackData = track['track']\n",
    "        if (trackData == None): continue\n",
    "        \n",
    "        album = trackData['album']        \n",
    "        if (album == None): continue\n",
    "        \n",
    "        trackImages = album['images']\n",
    "        if (trackImages == None or len(trackImages) == 0): continue\n",
    "        \n",
    "        imageUrl = trackImages[0]['url']\n",
    "        \n",
    "        if(imageUrl != None):\n",
    "            allImages.add(imageUrl)\n",
    "            download_url(imageUrl,\"~/images/country\")\n",
    "    \n",
    "    return allImages"
   ]
  },
  {
   "cell_type": "code",
   "execution_count": null,
   "metadata": {},
   "outputs": [
    {
     "name": "stdout",
     "output_type": "stream",
     "text": [
      "Downloading playlists\n",
      "Downloaded 77 playlists\n",
      "Downloading tracks\n"
     ]
    }
   ],
   "source": [
    "#len(get_album_images(\"latin\"))\n",
    "len(get_album_images(\"country\"))"
   ]
  },
  {
   "cell_type": "markdown",
   "metadata": {},
   "source": []
  },
  {
   "cell_type": "code",
   "execution_count": null,
   "metadata": {},
   "outputs": [],
   "source": []
  }
 ],
 "metadata": {
  "colab": {
   "collapsed_sections": [],
   "name": "getting_SpotifyAlbumImages",
   "provenance": []
  },
  "kernelspec": {
   "display_name": "Python 3",
   "language": "python",
   "name": "python3"
  }
 },
 "nbformat": 4,
 "nbformat_minor": 1
}
